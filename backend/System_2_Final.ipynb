{
 "cells": [
  {
   "cell_type": "code",
   "execution_count": 4,
   "id": "3fb71520",
   "metadata": {},
   "outputs": [],
   "source": [
    "import numpy as np\n",
    "import pandas as pd\n",
    "import matplotlib.pyplot as plt"
   ]
  },
  {
   "cell_type": "code",
   "execution_count": 8,
   "id": "efff8c1c",
   "metadata": {},
   "outputs": [],
   "source": [
    "data = [{'MovieID': 1, 'Title': 'Toy Story (1995)', 'Rate': 4},\n",
    "        {'MovieID': 2, 'Title': 'Jumanji (1995)', 'Rate': 4},\n",
    "        {'MovieID': 3, 'Title': 'Grumpier Old Men (1995)', 'Rate': 2},\n",
    "        {'MovieID': 4, 'Title': 'Waiting to Exhale (1995)', 'Rate': 1},\n",
    "        {'MovieID': 5, 'Title': 'Father of the Bride Part II (1995)', 'Rate': 5},\n",
    "        {'MovieID': 6, 'Title': 'Heat (1995)', 'Rate': 1},\n",
    "        {'MovieID': 7, 'Title': 'Sabrina (1995)', 'Rate': 5},\n",
    "        {'MovieID': 8, 'Title': 'Tom and Huck (1995)', 'Rate': 4},\n",
    "        {'MovieID': 9, 'Title': 'Sudden Death (1995)', 'Rate': 3},\n",
    "        {'MovieID': 10, 'Title': 'GoldenEye (1995)', 'Rate': 4},\n",
    "        {'MovieID': 11, 'Title': 'American President, The (1995)', 'Rate': 1},\n",
    "        {'MovieID': 12, 'Title': 'Dracula: Dead and Loving It (1995)', 'Rate': 1},\n",
    "        {'MovieID': 13, 'Title': 'Balto (1995)', 'Rate': 3},\n",
    "        {'MovieID': 14, 'Title': 'Nixon (1995)', 'Rate': 3},\n",
    "        {'MovieID': 15, 'Title': 'Cutthroat Island (1995)', 'Rate': 4},\n",
    "        {'MovieID': 16, 'Title': 'Casino (1995)', 'Rate': 5},\n",
    "        {'MovieID': 17, 'Title': 'Sense and Sensibility (1995)', 'Rate': 3},\n",
    "        {'MovieID': 18, 'Title': 'Four Rooms (1995)', 'Rate': 1},\n",
    "        {'MovieID': 19, 'Title': 'Ace Ventura: When Nature Calls (1995)', 'Rate': 3},\n",
    "        {'MovieID': 20, 'Title': 'Money Train (1995)', 'Rate': 2}]"
   ]
  },
  {
   "cell_type": "code",
   "execution_count": 3,
   "id": "1daf21d1",
   "metadata": {},
   "outputs": [],
   "source": [
    "# S = pd.read_csv('Top_Smat_2.csv', index_col=0)\n",
    "# R = pd.read_csv('Rmat.csv', index_col=0)\n",
    "# M = pd.read_csv('proj4_data/movies.dat', sep='::', engine = 'python', encoding=\"ISO-8859-1\", header=None)\n",
    "# M.columns = ['MovieID', 'Title', 'Genres']\n",
    "# w = R.loc['u1181']"
   ]
  },
  {
   "cell_type": "code",
   "execution_count": 10,
   "id": "398d40b2",
   "metadata": {},
   "outputs": [],
   "source": [
    "def System_2(data):\n",
    "    # read necessary data\n",
    "    S = pd.read_csv('Top_Smat_2.csv', index_col=0)\n",
    "    M = pd.read_csv('movies.dat', sep='::', engine = 'python', encoding=\"ISO-8859-1\", header=None)\n",
    "    M.columns = ['MovieID', 'Title', 'Genres']\n",
    "    data = pd.DataFrame(data)\n",
    "    \n",
    "    movieIDs = list(map(lambda x: int(x[1:]), S.index))\n",
    "    data = pd.DataFrame(data)\n",
    "    expanded_data = M.loc[M.MovieID.isin(movieIDs)]\n",
    "    expanded_data = expanded_data.drop(columns=['Genres'])\n",
    "    expanded_data['Rate'] = np.nan\n",
    "    for i in range(len(expanded_data)):\n",
    "        ID = expanded_data.iloc[i]['MovieID']\n",
    "        if ID in data.MovieID.values:\n",
    "            expanded_data.at[i,'Rate'] = data[data['MovieID']==ID]['Rate'].values[0]\n",
    "    \n",
    "    w = pd.Series(data=expanded_data['Rate'], index=expanded_data.MovieID.values)\n",
    "    w.index = map(lambda x: 'm'+str(x), w.index)\n",
    "    \n",
    "    all_movies = S.index\n",
    "    rated_movies = w[~np.isnan(w)].index\n",
    "    predicted_ratings = w.copy()\n",
    "\n",
    "    for movie in all_movies:\n",
    "        if movie not in rated_movies:\n",
    "            predicted_ratings[movie] = np.nan\n",
    "\n",
    "            S_movie = S.loc[movie] # Similarity of the movie\n",
    "            S_movie_index = S_movie[~np.isnan(S_movie.values)].index # Only select movies with similarities\n",
    "            useful_movies = S_movie_index.intersection(rated_movies) # Further choose movies with both similarities and ratings\n",
    "\n",
    "            U = np.sum(S_movie[useful_movies]*w[useful_movies])\n",
    "            D = np.sum(S_movie[useful_movies])\n",
    "\n",
    "            if D!=0:\n",
    "                predicted_ratings[movie] = U/D\n",
    "\n",
    "    predicted_ratings = predicted_ratings.drop(rated_movies)\n",
    "    final_recommendation = predicted_ratings.sort_values(ascending=False)[:10]\n",
    "    final_recommendation.index = map(lambda x: int(x[1:]), final_recommendation.index)\n",
    "\n",
    "    selected_title = []\n",
    "    for idx in final_recommendation.index:\n",
    "        title = M[M.MovieID==idx]['Title'].values[0]\n",
    "        selected_title.append(title)\n",
    "\n",
    "    final_output = [{'MovieID': final_recommendation.index[i], 'Title': selected_title[i]} for i in range(len(final_recommendation))]\n",
    "    return final_output"
   ]
  },
  {
   "cell_type": "code",
   "execution_count": 11,
   "id": "60f0c622",
   "metadata": {},
   "outputs": [
    {
     "data": {
      "text/plain": [
       "[{'MovieID': 3012, 'Title': 'Battling Butler (1926)'},\n",
       " {'MovieID': 2585,\n",
       "  'Title': 'Lovers of the Arctic Circle, The (Los Amantes del Círculo Polar) (1998)'},\n",
       " {'MovieID': 937, 'Title': 'Love in the Afternoon (1957)'},\n",
       " {'MovieID': 2621, 'Title': 'Xiu Xiu: The Sent-Down Girl (Tian yu) (1998)'},\n",
       " {'MovieID': 600, 'Title': 'Love and a .45 (1994)'},\n",
       " {'MovieID': 2345, 'Title': 'Desert Bloom (1986)'},\n",
       " {'MovieID': 716, 'Title': 'Switchblade Sisters (1975)'},\n",
       " {'MovieID': 732, 'Title': 'Original Gangstas (1996)'},\n",
       " {'MovieID': 2234, 'Title': \"Let's Talk About Sex (1998)\"},\n",
       " {'MovieID': 2196, 'Title': 'Knock Off (1998)'}]"
      ]
     },
     "execution_count": 11,
     "metadata": {},
     "output_type": "execute_result"
    }
   ],
   "source": [
    "res = System_2(data)\n",
    "res"
   ]
  },
  {
   "cell_type": "code",
   "execution_count": 7,
   "id": "6bdaf088",
   "metadata": {},
   "outputs": [
    {
     "ename": "NameError",
     "evalue": "name 'res' is not defined",
     "output_type": "error",
     "traceback": [
      "\u001b[0;31m---------------------------------------------------------------------------\u001b[0m",
      "\u001b[0;31mNameError\u001b[0m                                 Traceback (most recent call last)",
      "Cell \u001b[0;32mIn[7], line 1\u001b[0m\n\u001b[0;32m----> 1\u001b[0m \u001b[43mres\u001b[49m\n",
      "\u001b[0;31mNameError\u001b[0m: name 'res' is not defined"
     ]
    }
   ],
   "source": [
    "res"
   ]
  },
  {
   "cell_type": "code",
   "execution_count": null,
   "id": "9666f7c0",
   "metadata": {},
   "outputs": [],
   "source": [
    "res = System_2(w)\n",
    "res"
   ]
  },
  {
   "cell_type": "code",
   "execution_count": null,
   "id": "7cf797b6",
   "metadata": {},
   "outputs": [],
   "source": []
  }
 ],
 "metadata": {
  "kernelspec": {
   "display_name": "Python 3 (ipykernel)",
   "language": "python",
   "name": "python3"
  },
  "language_info": {
   "codemirror_mode": {
    "name": "ipython",
    "version": 3
   },
   "file_extension": ".py",
   "mimetype": "text/x-python",
   "name": "python",
   "nbconvert_exporter": "python",
   "pygments_lexer": "ipython3",
   "version": "3.10.13"
  }
 },
 "nbformat": 4,
 "nbformat_minor": 5
}
