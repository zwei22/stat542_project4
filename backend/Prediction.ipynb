{
 "cells": [
  {
   "cell_type": "code",
   "execution_count": 1,
   "id": "341cc49b",
   "metadata": {},
   "outputs": [],
   "source": [
    "import numpy as np\n",
    "import pandas as pd\n",
    "import matplotlib.pyplot as plt"
   ]
  },
  {
   "cell_type": "markdown",
   "id": "862679f4",
   "metadata": {},
   "source": [
    "Create a function named `myIBCF`:\n",
    "\n",
    "- Input: `new_user`  a 3706-by-1 vector (denoted as $w$)containing ratings for the 3,706 movies from a new user. Many entries in this vector will be zero. The order of the movies in this vector should match the rating matrix $R$.\n",
    "\n",
    "- Inside the function: Upon receiving this input, your function should download the similarity matrix and use it to compute predictions for movies that have not been rated by this new user yet. Use the following formula to compute the prediction for movie $l$:\n",
    "\n",
    "$$\n",
    "\\frac{1}{\\sum_{i \\in S(l)} S_{li} \\textbf{1}_{\\{w_i \\neq NA\\}}} \\displaystyle \\sum_{i \\in S(l)} S_{li}w_{i}\n",
    "$$\n",
    "\n",
    "where $S(l)$ denotes the set of movies in the 30-nearest neighborhood of movie $l$. Again NA values may occur.\n",
    "\n",
    "- Output: Based on your predictions, recommend the top 10 movies to this new user, using the column names of the rating matrix $R$. Explain what your code should do if fewer than 10 predictions are non-NA. Provide a method to suggest additional movies that have not been rated by this user."
   ]
  },
  {
   "cell_type": "code",
   "execution_count": 3,
   "id": "8c84b518",
   "metadata": {},
   "outputs": [],
   "source": [
    "S = pd.read_csv('Top_Smat_2.csv', index_col=0)\n",
    "R = pd.read_csv('Rmat.csv', index_col=0)\n",
    "M = pd.read_csv('./movies.dat', sep='::', engine = 'python', encoding=\"ISO-8859-1\", header=None)\n",
    "M.columns = ['MovieID', 'Title', 'Genres']"
   ]
  },
  {
   "cell_type": "code",
   "execution_count": 4,
   "id": "6eb99c84",
   "metadata": {},
   "outputs": [],
   "source": [
    "w = R.loc['u1181']\n",
    "all_movies = S.index\n",
    "\n",
    "rated_movies = w[~np.isnan(w)].index\n",
    "\n",
    "predicted_ratings = w.copy()\n",
    "\n",
    "for movie in all_movies:\n",
    "    if movie not in rated_movies:\n",
    "        predicted_ratings[movie] = np.nan\n",
    "        \n",
    "        S_movie = S.loc[movie] # Similarity of the movie\n",
    "        S_movie_index = S_movie[~np.isnan(S_movie.values)].index # Only select movies with similarities\n",
    "        useful_movies = S_movie_index.intersection(rated_movies) # Further choose movies with both similarities and ratings\n",
    "        \n",
    "        U = np.sum(S_movie[useful_movies]*w[useful_movies])\n",
    "        D = np.sum(S_movie[useful_movies])\n",
    "        \n",
    "        if D!=0:\n",
    "            predicted_ratings[movie] = U/D\n",
    "        \n",
    "predicted_ratings = predicted_ratings.drop(rated_movies)\n",
    "final_recommendation = predicted_ratings.sort_values(ascending=False)[:10]"
   ]
  },
  {
   "cell_type": "code",
   "execution_count": 5,
   "id": "e74ca58e",
   "metadata": {},
   "outputs": [
    {
     "data": {
      "text/plain": [
       "m3732    5.000000\n",
       "m749     4.526559\n",
       "m3899    4.526066\n",
       "m3789    4.000000\n",
       "m504     4.000000\n",
       "m1235    4.000000\n",
       "m249     4.000000\n",
       "m1914    4.000000\n",
       "m1253    4.000000\n",
       "m2793    4.000000\n",
       "Name: u1181, dtype: float64"
      ]
     },
     "execution_count": 5,
     "metadata": {},
     "output_type": "execute_result"
    }
   ],
   "source": [
    "final_recommendation"
   ]
  },
  {
   "cell_type": "code",
   "execution_count": null,
   "id": "e958226b",
   "metadata": {},
   "outputs": [],
   "source": []
  }
 ],
 "metadata": {
  "kernelspec": {
   "display_name": "Python 3 (ipykernel)",
   "language": "python",
   "name": "python3"
  },
  "language_info": {
   "codemirror_mode": {
    "name": "ipython",
    "version": 3
   },
   "file_extension": ".py",
   "mimetype": "text/x-python",
   "name": "python",
   "nbconvert_exporter": "python",
   "pygments_lexer": "ipython3",
   "version": "3.10.13"
  }
 },
 "nbformat": 4,
 "nbformat_minor": 5
}
