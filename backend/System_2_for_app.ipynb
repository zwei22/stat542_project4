{
 "cells": [
  {
   "cell_type": "code",
   "execution_count": 1,
   "id": "091f8c6a",
   "metadata": {},
   "outputs": [],
   "source": [
    "import pandas as pd\n",
    "import numpy as np"
   ]
  },
  {
   "cell_type": "code",
   "execution_count": 27,
   "id": "e3467afd",
   "metadata": {},
   "outputs": [],
   "source": [
    "def revise_input_data(data):\n",
    "    S = pd.read_csv('Final_Files/Top_Smat.csv', index_col=0)\n",
    "    R = pd.read_csv('Final_Files/Rmat.csv', index_col=0)\n",
    "    M = pd.read_csv('proj4_data/movies.dat', sep='::', engine = 'python', encoding=\"ISO-8859-1\", header=None)\n",
    "    M.columns = ['MovieID', 'Title', 'Genres']\n",
    "    \n",
    "    movieIDs = list(map(lambda x: int(x[1:]), S.index))\n",
    "    expanded_data = M.loc[M.MovieID.isin(movieIDs)]\n",
    "    expanded_data = expanded_data.drop(columns=['Genres'])\n",
    "    expanded_data['Rate'] = np.nan\n",
    "    \n",
    "    data = pd.DataFrame(data)\n",
    "    for i in range(len(expanded_data)):\n",
    "        ID = expanded_data.iloc[i]['MovieID']\n",
    "        if ID in data.MovieID.values:\n",
    "            expanded_data.loc[expanded_data['MovieID']==ID,'Rate'] = data[data['MovieID']==ID]['Rate'].values[0]\n",
    "    \n",
    "    expanded_data.index = expanded_data['MovieID'].values\n",
    "    expanded_data = expanded_data.drop(columns=['MovieID', 'Title'])\n",
    "    expanded_data.index = map(lambda x: 'm'+str(x), expanded_data.index)\n",
    "    return expanded_data['Rate']"
   ]
  },
  {
   "cell_type": "code",
   "execution_count": 28,
   "id": "628bc9cd",
   "metadata": {},
   "outputs": [],
   "source": [
    "def myIBCF(w):\n",
    "    S = pd.read_csv('Final_Files/Top_Smat.csv', index_col=0)\n",
    "    R = pd.read_csv('Final_Files/Rmat.csv', index_col=0)\n",
    "    M = pd.read_csv('proj4_data/movies.dat', sep='::', engine = 'python', encoding=\"ISO-8859-1\", header=None)\n",
    "    M.columns = ['MovieID', 'Title', 'Genres']\n",
    "    \n",
    "    w_with_rate = w.dropna()\n",
    "    rated_movies = w_with_rate.index\n",
    "    predicted_ratings = w.copy()\n",
    "    all_movies = S.index\n",
    "    \n",
    "    for movie in all_movies:\n",
    "        if movie not in rated_movies:\n",
    "            S_movie = S.loc[movie] # Similarity of the movie\n",
    "            S_movie_index = S_movie.dropna().index # Only select movies with similarities\n",
    "            useful_movies = S_movie_index.intersection(rated_movies) # Further choose movies with both similarities and ratings\n",
    "            # print(useful_movies)\n",
    "            # print(w['m2196'])\n",
    "            \n",
    "            U = np.sum(S_movie[useful_movies]*predicted_ratings[useful_movies])\n",
    "            D = np.sum(S_movie[useful_movies])\n",
    "\n",
    "            if D!=0:\n",
    "                predicted_ratings[movie] = U/D\n",
    "    \n",
    "    predicted_ratings = predicted_ratings.drop(rated_movies)\n",
    "    res = predicted_ratings.sort_values(ascending=False)[:10]\n",
    "    res.index = map(lambda x: int(x[1:]), res.index)\n",
    "    res = res.sort_index()\n",
    "    \n",
    "    final_df = M[M['MovieID'].isin(res.index)]\n",
    "    final_df = final_df.drop(columns=['Genres'])\n",
    "    final_df['Rate'] = res.values\n",
    "    final_df = final_df.sort_values(by=['Rate'], ascending=False)\n",
    "    final_df = final_df.reset_index(drop=True)\n",
    "    return final_df"
   ]
  },
  {
   "cell_type": "code",
   "execution_count": 32,
   "id": "b5c56215",
   "metadata": {},
   "outputs": [],
   "source": [
    "def generate_output(res):\n",
    "    output = []\n",
    "    for i in range(len(res)):\n",
    "        output.append({'MovieID': res.iloc[i]['MovieID'], 'Title': res.iloc[i]['Title']})\n",
    "    return output"
   ]
  },
  {
   "cell_type": "code",
   "execution_count": 33,
   "id": "06c3344f",
   "metadata": {},
   "outputs": [],
   "source": [
    "def System_2(input_data):\n",
    "    revised_input = revise_input_data(input_data) # convert input data from list of dictionary to series\n",
    "    recommendations = myIBCF(revised_input) # get recommendations\n",
    "    final_output = generate_output(recommendations) # format the recommendations to be a list of dictionary\n",
    "    return final_output"
   ]
  },
  {
   "cell_type": "code",
   "execution_count": 35,
   "id": "959832c4",
   "metadata": {},
   "outputs": [
    {
     "data": {
      "text/plain": [
       "[{'MovieID': 391, 'Title': \"Jason's Lyric (1994)\"},\n",
       " {'MovieID': 1436, 'Title': 'Falling in Love Again (1980)'},\n",
       " {'MovieID': 1596, 'Title': 'Career Girls (1997)'},\n",
       " {'MovieID': 1811, 'Title': 'Niagara, Niagara (1997)'},\n",
       " {'MovieID': 1859, 'Title': 'Taste of Cherry (1997)'},\n",
       " {'MovieID': 2063, 'Title': 'Seventh Heaven (Le Septième ciel) (1997)'},\n",
       " {'MovieID': 2172,\n",
       "  'Title': 'Strike! (a.k.a. All I Wanna Do, The Hairy Bird) (1998)'},\n",
       " {'MovieID': 2534, 'Title': 'Avalanche (1978)'},\n",
       " {'MovieID': 3166, 'Title': 'Brenda Starr (1989)'},\n",
       " {'MovieID': 3282, 'Title': 'Different for Girls (1996)'}]"
      ]
     },
     "execution_count": 35,
     "metadata": {},
     "output_type": "execute_result"
    }
   ],
   "source": [
    "data = [{'MovieID': 1, 'Title': 'Toy Story (1995)', 'Rate': 4},\n",
    "        {'MovieID': 2, 'Title': 'Jumanji (1995)', 'Rate': 4},\n",
    "        {'MovieID': 3, 'Title': 'Grumpier Old Men (1995)', 'Rate': 2},\n",
    "        {'MovieID': 4, 'Title': 'Waiting to Exhale (1995)', 'Rate': 1},\n",
    "        {'MovieID': 5, 'Title': 'Father of the Bride Part II (1995)', 'Rate': 5},\n",
    "        {'MovieID': 6, 'Title': 'Heat (1995)', 'Rate': 1},\n",
    "        {'MovieID': 7, 'Title': 'Sabrina (1995)', 'Rate': 5},\n",
    "        {'MovieID': 8, 'Title': 'Tom and Huck (1995)', 'Rate': 4},\n",
    "        {'MovieID': 9, 'Title': 'Sudden Death (1995)', 'Rate': 3},\n",
    "        {'MovieID': 10, 'Title': 'GoldenEye (1995)', 'Rate': 4},\n",
    "        {'MovieID': 11, 'Title': 'American President, The (1995)', 'Rate': 1},\n",
    "        {'MovieID': 12, 'Title': 'Dracula: Dead and Loving It (1995)', 'Rate': 1},\n",
    "        {'MovieID': 13, 'Title': 'Balto (1995)', 'Rate': 3},\n",
    "        {'MovieID': 14, 'Title': 'Nixon (1995)', 'Rate': 3},\n",
    "        {'MovieID': 15, 'Title': 'Cutthroat Island (1995)', 'Rate': 4},\n",
    "        {'MovieID': 16, 'Title': 'Casino (1995)', 'Rate': 5},\n",
    "        {'MovieID': 17, 'Title': 'Sense and Sensibility (1995)', 'Rate': 3},\n",
    "        {'MovieID': 18, 'Title': 'Four Rooms (1995)', 'Rate': 1},\n",
    "        {'MovieID': 19, 'Title': 'Ace Ventura: When Nature Calls (1995)', 'Rate': 3},\n",
    "        {'MovieID': 20, 'Title': 'Money Train (1995)', 'Rate': 2}]\n",
    "\n",
    "solution = System_2(data)\n",
    "solution"
   ]
  },
  {
   "cell_type": "code",
   "execution_count": null,
   "id": "227a7495",
   "metadata": {},
   "outputs": [],
   "source": []
  }
 ],
 "metadata": {
  "kernelspec": {
   "display_name": "Python 3 (ipykernel)",
   "language": "python",
   "name": "python3"
  },
  "language_info": {
   "codemirror_mode": {
    "name": "ipython",
    "version": 3
   },
   "file_extension": ".py",
   "mimetype": "text/x-python",
   "name": "python",
   "nbconvert_exporter": "python",
   "pygments_lexer": "ipython3",
   "version": "3.9.12"
  }
 },
 "nbformat": 4,
 "nbformat_minor": 5
}
